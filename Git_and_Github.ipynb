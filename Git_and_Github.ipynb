{
 "cells": [
  {
   "cell_type": "markdown",
   "metadata": {},
   "source": [
    "# Git & Github Info"
   ]
  },
  {
   "cell_type": "markdown",
   "metadata": {},
   "source": [
    "Git is a version control system(just means earlier/different versions of work can be saved, this is done in other systems like Dropbox,Google Docs, Wikipedia,etc.). Github is a code sharing and collaboration platform."
   ]
  },
  {
   "cell_type": "markdown",
   "metadata": {},
   "source": [
    "## Installation"
   ]
  },
  {
   "cell_type": "markdown",
   "metadata": {},
   "source": [
    "Since I'm using a Windows machine I'll have to download and install Git to use it. You can get the download from here: https://gitforwindows.org/\n",
    " - Walking through the installation I leave evrything check and additionally check \"Additional Icons\" to have a desktop shortcut included.\n",
    " - I keep Vim as the default text editor since it's already the default editor of Git for Windows and it's the editor I have the most experience with.\n",
    " - I leave \"Git from command line and also from 3rd-party software\" checked because I don't want to override my Windows tools.\n",
    " - OpenSSL library for certs if fine to use.\n",
    " - I click \"Checkout Windows-style,commit Unix-style line endings\" since this will automatically convert LF and CRLF(line feeds and carriage return line feeds), just makes things easier to read.\n",
    " - \"Use MinTTY\" this is just the better terminal emulator to use, it's already configured for stuff like longer scroll-back, Unicode font(helps display non-ASCII chars correctly), easy window resizing. Keep in mind Windows console programs(like interactive python) must be launched via 'winpty' to work in MinTTY(for docs on this visit here: http://mintty.github.io/).\n",
    " - Check \"Enable file system caching\" and \"Enable  Git Credential Manager\", \"Enable symbolic links\" isn't necessary.\n",
    " - Install."
   ]
  },
  {
   "cell_type": "markdown",
   "metadata": {},
   "source": [
    "## Setup"
   ]
  },
  {
   "cell_type": "markdown",
   "metadata": {},
   "source": [
    "Now that we have GitBash we can use all the commands regularly used in \\*nix systems.\n",
    "\n",
    "It's also recommended that we download a simple text editor so I'll go with Sublime 3 at the time of this writting. \n",
    " - Download Sublime 3 from here: http://www.sublimetext.com/3\n",
    " - In GitBash make sure sublime_text.exe is in /Program Files\n",
    " - Give sublime_text.exe and alias to easily open it from anywhere: echo 'alias sublime=\"C:/Program\\ Files/Sublime\\ Text\\ 3/sublime_text.exe\"' >> ~/.bashrc\n",
    " - If it doesn't work then more info is here: https://www.udacity.com/wiki/ud775/sublime\n",
    " - Done\n",
    " - *REMINDER:* Create a sublime file in GitBash with: sublime file_name_here.txt \n",
    " \n",
    "In the latest versions of git autocompletion is readily available, if your working on a system which doesn't have this, then you can enable it following these steps:\n",
    " - Download the script for Git autocompletion here(click save as and download): https://raw.githubusercontent.com/git/git/master/contrib/completion/git-completion.bash\n",
    " - After this download in Git Bash move to the home directory(starting place upon opening Git Bash) or move there with: cd ~\n",
    " - Once there move the downloaded file from above to the current directory and rename it to end in just \".bash\", not \".bash.txt\" which is the name given to it from the download, do this with the command: mv Downloads/git-completion.bash.txt git-completion.bash\n",
    " - Follow the same steps for this: https://raw.githubusercontent.com/git/git/master/contrib/completion/git-prompt.sh (this file should be named \"git-prompt.sh\")\n",
    " - For furthur bash customization visit: https://www.cyberciti.biz/tips/howto-linux-unix-bash-shell-setup-prompt.html\n",
    " - For different default text editors: https://help.github.com/en/articles/associating-text-editors-with-git\n",
    "\n",
    "Password caching may need to be setup depending on the version of Git you have too. Password caching enables you to send changes to GitHub via the command line without having to type in your password everytime.\n",
    " - Follow these instructions: https://help.github.com/en/articles/caching-your-github-password-in-git\n",
    " - For SSH connection: https://help.github.com/en/articles/connecting-to-github-with-ssh"
   ]
  },
  {
   "cell_type": "markdown",
   "metadata": {},
   "source": [
    "## Tips & Reminders"
   ]
  },
  {
   "cell_type": "markdown",
   "metadata": {},
   "source": [
    "**TIPS**\n",
    " - *Use short lines:* Many command line tools, including Git, are less useful if your files contain very long lines. For example, if you use diff to compare two files that have all their content on the same line, diff will only show you that the two files are different. It will not be able to pinpoint the location of the difference for you. For this reason, it is a good idea to make sure you keep your lines reasonably short when writing your plain-text files. The exact limit is a matter of personal preference but many developers use a max line length of 80 to 120 characters. Some editors can automatically insert line breaks for you, but for others, like Sublime, you will need to remember to press enter when you want to create a new line.\n",
    " \n",
    " - *How Often to Commit?* A good rule of thumb is to make one commit per logical change. For example, if you fixed a typo, then fixed a bug in a separate part of the file, you should use one commit for each change since they are logically separate. \n",
    " \n",
    " - *Multiple Versions of Code/Project:* Branches allow for divergence from the main original and main piece of code being worked on. If you want to experiment with something in the code or create an alternate version of it without effecting the original/main version, then cerating a branch makes the most sense. If the experiment or other versions turn out well and you want to add them to be part of the original/main code then you can merge them together.\n",
    "\n",
    "**REMINDERS**\n",
    " - *What is a Repository?* A collection of multiple files being worked on. When making a commit(a snapshot of all the files in the repository at the time of the commit), a version of every file in the repository is saved.\n",
    " \n",
    " - *Git checkout:* This is used to reset all files to the time the chosen commit was made. This is useful if a bug was found and you're not sure which commit introduced it.\n",
    " - *Staging area:* There are 3 areas when working with Git, the Working Directory(where you're currently working and the all the files in this directory), which goes to the Staging Area(intermediate area where files may be added one at a time and then when commit is run it will only commit the files in this area) which leads to the Repository(where the files from the staging area are committed). The command \"git status\" can be used to check current files in working directory(under \"Untracked files\") and to check which files are in the staging area(under \"Changes to be committed\"). The main/original/offical version of the code is referred to as the Master branch, other versions have their own branch names that are not Master. The Master branch is created automatically every time a new repository is created and it acts as the current branch being worked on upon creation.\n",
    " \n",
    " - *Branches:* Good to use with different/experimental versions of the official(Master) branch version. Can checkout other branches not created by yourself, the message: \"Branch branch_name set up to track remote branch branch_name from origin.\" This just means that you didn't create this branch yourself since this is a \"remote\" branch.\n",
    " \n",
    " - *Git Merge:* git merge will also include the currently checked-out branch in the merged version. So if you have branch_name1 checked out, and you run: git merge branch_name2 branch_name3, the merged version will combine branch_name1,branch_name2, and branch_name3(that’s because the branch_name1 label will update after you make the merge commit). For this reason, you should always checkout one of the two branches you’re planning on merging before doing the merge.If you want to merge branch_name2 into branch_name1, you can simply: git checkout branch_name1 ,then: git merge branch_name2.\n",
    " \n",
    " - *Merge Conflicts:* It's possible to update the local copy of the remote while leaving the local version alone with git fetch, this is a good idea so that then git log and git diff can be used to see what changes were made on on the local and remote repositories(good if the remote is being updated and you're working on something else in the mean time). To combine the local and local copy of the remote we can now git merge(git pull is equivalent to doing git fetch then git merge). The message \"Your branch and 'origin/master' have diverged, and have...\" is expected when the local and local copy of the remote are present and different.\n",
    " \n",
    " - *Forking:* Can only be done on Github. Makes a copy of someone else's repository on your Github profile which can now be cloned and modified on your system. No need to set up a remote here since one is automatically set up when one is cloned. A conflict can emerge if making a pull request from your fork but someone makes a change to the original repository, if this happens then another remote needs to be added to include changes from the original repository, this remote is usually named \"upstream.\" The steps are: add upstream(original) remote in clone -> pull master from upstream -> merge master into change branch(local) -> push change branch into fork(will automatically update pull request). \n",
    " \n",
    " - *Pull Requests:* Good way to get feedback before updating the Master branch(remember this is called a pull request but it's an attempt to merge/push into a branch, it's called pull since you're requesting that your branch be pulled into another). This is done by making a change locally on a different branch(create a new one if needed) -> push that change to the fork(on the new/different branch being used, so git push origin different_branch_name) -> make a pull request(done on Github, by default Github assumes you want to merge changes into original repository but you may just want to merge into the master branch of your own fork, so make sure to edit this). Now on Github you can see two branches exists. Now pushing this new branch with any new commits will automatically update the pull request."
   ]
  },
  {
   "cell_type": "markdown",
   "metadata": {},
   "source": [
    "## Common Commands"
   ]
  },
  {
   "cell_type": "markdown",
   "metadata": {},
   "source": [
    " - GitBash Information\n",
    "1. Check current Git version: `git --version`\n",
    "2. Get colored diff output: `git config --global color.ui auto`\n",
    "\n",
    "\n",
    " - Working Directory/Commits\n",
    "3. View history: `git log` (can add a branch name to check that out from current directory too)\n",
    "4. View visual representation of the commit history: `git log --graph --oneline branch_name1 branch_name2` \n",
    "5. Changes between two versions of a file in log: `diff commit_id_1 commit_id_2`\n",
    "6. Files changed in each commit: `git log --stat`\n",
    "7. Reset to a previous commit: `git checkout commit_id`\n",
    "8. Check files changed since last commit: `git status`\n",
    "9. Check a commits parent: `git show commit_id` (useful after merging branches)\n",
    "10. Alter most recent commit: `git commit --amend`\n",
    "11. Revert most recent commit: `git revert commit_id`\n",
    "\n",
    "\n",
    " - Staging Area\n",
    "12. Add files to Staging Area: `git add file_name.txt`\n",
    "13. Commit files from Staging Area: `git git commit`(this requires a commit message to see what changed)\n",
    "14. Check changes between Working Directory and Staging Area: `git diff` (no arguments, if no difference then nothing pops up)\n",
    "15. Check changes between Staging Area and Repository: `git diff --staged` (if no difference then nothing pops up)\n",
    "16. Discard changes in Working Directory or Staging Area: `git reset --hard` (this is NOT REVERSIBLE since the changes have never been committed in the Working Directory or Staging Area)\n",
    "\n",
    "\n",
    " - Branches\n",
    "17. Create new branch: `git branch branch_name`\n",
    "18. Check branches: `git branch`\n",
    "19. Switch branches: `git checkout branch_name`\n",
    "20. Create & switch to new branch: `git checkout -b branch_name`\n",
    "21. Delete a branch: `git branch -d branch_name` (only deletes branch label, not commits from it)\n",
    "\n",
    "\n",
    " - Repositories\n",
    "22. Clone a repository: `git clone github_url_of_repository` (make sure you're in the directory you want to clone this to)\n",
    "23. Create/Initialize a repository: `git init` (running \"ls -la\" should show a \".git\" directory has been created)\n",
    "24. Create a remote(repository): `git remote add origin URL_of_github_link` (standard name for 1 remote is origin, the name origin is the name used within the local repository to refer to the remote repository on Github)\n",
    "25. Check remotes: `git remote -v` (check remotes created and shows URL where data is fetched/pushed, these will be the same in most cases)\n",
    "26. Send changes to remote: `git push origin master` (master is the branch being pushed from local to remote)\n",
    "27. Pull/Grab changes from remote: `git pull origin master` (master is the branch being pulled from the remote)\n",
    "28. Update only local copy of remote branch: `git fetch origin` (leaves actual local version alone, this is good when different changes have been made to the remote and local copy of the remote branches)\n",
    "29. Merge remote and local copy of remote: `git merge master origin/master` (a conflict is expected from this to be checked)"
   ]
  },
  {
   "cell_type": "markdown",
   "metadata": {},
   "source": [
    "## Warnings/Error Messages"
   ]
  },
  {
   "cell_type": "markdown",
   "metadata": {},
   "source": [
    "**\"Should not be doing an octopus\"** Octopus is a strategy Git uses to combine many different versions of code together. This message can appear if you try to use this strategy in an inappropriate situation.\n",
    "\n",
    "**\"You are in 'detached HEAD' state\"** HEAD is what Git calls the commit you are currently on. You can “detach” the HEAD by switching to a previous commit. It’s not a bad thing to detach the HEAD(switch to a previous commit), Git just warns you so that you’ll realize you’re doing it. This warning also serves to let you know that you're looking at a commit that isn't labeled with a branch name.\n",
    "\n",
    "**\"fatal: bad default revision 'HEAD'** This is message Git gives when attempting to view commit history and there is no history yet. \"Git staus\" may be run here instead to verify that it is a git repository.\n",
    "\n",
    "**\"Merge conflict...\"** Newline characters between Windows and Unix systems cause this since it converts LF to CRLF. More info to fix this here:https://help.github.com/en/articles/dealing-with-line-endings#platform-all\n",
    "\n",
    "**\"CONFLICT (content): Merge conflict...\"** Git doesn't know what changes to keep since both branches being merged changed the same part of some file. To resolve the conflict open the file where the conflict occured and look for \"<<<<<<< HEAD\", check what change happened from both merges compared to the common ancestor and change the code to keep only what's needed/clean up what isn't."
   ]
  },
  {
   "cell_type": "markdown",
   "metadata": {},
   "source": [
    "## Cheatsheets/Tools"
   ]
  },
  {
   "cell_type": "markdown",
   "metadata": {},
   "source": [
    " - Github Cheetsheet: https://github.com/github/training-kit/blob/master/downloads/github-git-cheat-sheet.pdf\n",
    " - Diagram Tools: https://www.gliffy.com/, https://yuml.me/diagram/activity/draw\n",
    " - BitBucket: https://bitbucket.org/product, https://confluence.atlassian.com/bitbucket/tutorials-755338051.html (a Git hosting service that gives you unlimited private repositories for free!)\n",
    " - Markdown Guide: https://help.github.com/en/articles/getting-started-with-writing-and-formatting-on-github\n",
    " - Markdown Differences in Github: https://help.github.com/en/categories/writing-on-github\n",
    " - Markdown Previewer: https://dillinger.io/\n",
    " - Markdown Preview with Sublime: https://packagecontrol.io/packages/GitHub%20Flavored%20Markdown%20Preview\n",
    " - OpenSource Projects List: https://up-for-grabs.net/#/ "
   ]
  },
  {
   "cell_type": "markdown",
   "metadata": {},
   "source": [
    "## Writing/Commits"
   ]
  },
  {
   "cell_type": "markdown",
   "metadata": {},
   "source": [
    " - Make sure to follow the message format for whatever project you're working on specifies!\n",
    " - Writing README's: https://github.com/udacity/ud777-writing-readmes"
   ]
  },
  {
   "cell_type": "markdown",
   "metadata": {},
   "source": [
    "## References"
   ]
  },
  {
   "cell_type": "markdown",
   "metadata": {},
   "source": [
    "**Udacity**\n",
    " - Version Control with Git: https://classroom.udacity.com/courses/ud123\n",
    " - How to Use Git and Github: https://classroom.udacity.com/courses/ud775\n",
    " - Github & Collaboration: https://classroom.udacity.com/courses/ud456\n",
    " - Optimize Your Github: https://classroom.udacity.com/courses/ud247\n",
    " - Git Commit Message Style Guide: https://classroom.udacity.com/courses/ud247\n",
    " - Writing READMEs: https://classroom.udacity.com/courses/ud777\n",
    " - Git Book: https://git-scm.com/about"
   ]
  },
  {
   "cell_type": "markdown",
   "metadata": {},
   "source": [
    "## License"
   ]
  },
  {
   "cell_type": "markdown",
   "metadata": {},
   "source": [
    "By default you retain full rights to your code even if you don't include a license, but it's better to be explicit about this for good practices, it's also important to include if you want others to contribute to your code: https://choosealicense.com/"
   ]
  }
 ],
 "metadata": {
  "kernelspec": {
   "display_name": "Python 3",
   "language": "python",
   "name": "python3"
  },
  "language_info": {
   "codemirror_mode": {
    "name": "ipython",
    "version": 3
   },
   "file_extension": ".py",
   "mimetype": "text/x-python",
   "name": "python",
   "nbconvert_exporter": "python",
   "pygments_lexer": "ipython3",
   "version": "3.6.5"
  }
 },
 "nbformat": 4,
 "nbformat_minor": 2
}
